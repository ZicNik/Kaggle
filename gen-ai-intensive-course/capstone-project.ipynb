{
 "cells": [
  {
   "cell_type": "markdown",
   "id": "7952653f",
   "metadata": {
    "papermill": {
     "duration": 0.002754,
     "end_time": "2025-04-07T21:31:39.840875",
     "exception": false,
     "start_time": "2025-04-07T21:31:39.838121",
     "status": "completed"
    },
    "tags": []
   },
   "source": [
    "## Get set up\n",
    "\n",
    "Install the SDK and other tools for this notebook, then import the package and set up a retry policy so you don't have to manually retry when you hit a quota limit."
   ]
  },
  {
   "cell_type": "code",
   "execution_count": 1,
   "id": "fdfd6be5",
   "metadata": {
    "execution": {
     "iopub.execute_input": "2025-04-07T21:31:39.847284Z",
     "iopub.status.busy": "2025-04-07T21:31:39.846819Z",
     "iopub.status.idle": "2025-04-07T21:31:49.090343Z",
     "shell.execute_reply": "2025-04-07T21:31:49.088881Z"
    },
    "papermill": {
     "duration": 9.24922,
     "end_time": "2025-04-07T21:31:49.092686",
     "exception": false,
     "start_time": "2025-04-07T21:31:39.843466",
     "status": "completed"
    },
    "tags": []
   },
   "outputs": [
    {
     "name": "stdout",
     "output_type": "stream",
     "text": [
      "\u001b[2K   \u001b[90m━━━━━━━━━━━━━━━━━━━━━━━━━━━━━━━━━━━━━━━━\u001b[0m \u001b[32m149.6/149.6 kB\u001b[0m \u001b[31m3.9 MB/s\u001b[0m eta \u001b[36m0:00:00\u001b[0m\r\n",
      "\u001b[2K   \u001b[90m━━━━━━━━━━━━━━━━━━━━━━━━━━━━━━━━━━━━━━━━\u001b[0m \u001b[32m100.9/100.9 kB\u001b[0m \u001b[31m4.3 MB/s\u001b[0m eta \u001b[36m0:00:00\u001b[0m\r\n",
      "\u001b[?25h"
     ]
    }
   ],
   "source": [
    "!pip uninstall -qyy jupyterlab\n",
    "!pip install -qU \"google-genai==1.9.0\""
   ]
  },
  {
   "cell_type": "code",
   "execution_count": 2,
   "id": "f38d055d",
   "metadata": {
    "execution": {
     "iopub.execute_input": "2025-04-07T21:31:49.099190Z",
     "iopub.status.busy": "2025-04-07T21:31:49.098853Z",
     "iopub.status.idle": "2025-04-07T21:31:50.445212Z",
     "shell.execute_reply": "2025-04-07T21:31:50.444024Z"
    },
    "papermill": {
     "duration": 1.35182,
     "end_time": "2025-04-07T21:31:50.447193",
     "exception": false,
     "start_time": "2025-04-07T21:31:49.095373",
     "status": "completed"
    },
    "tags": []
   },
   "outputs": [
    {
     "data": {
      "text/plain": [
       "'1.9.0'"
      ]
     },
     "execution_count": 2,
     "metadata": {},
     "output_type": "execute_result"
    }
   ],
   "source": [
    "from google import genai\n",
    "\n",
    "genai.__version__"
   ]
  },
  {
   "cell_type": "markdown",
   "id": "c1c49fe2",
   "metadata": {
    "papermill": {
     "duration": 0.002576,
     "end_time": "2025-04-07T21:31:50.452714",
     "exception": false,
     "start_time": "2025-04-07T21:31:50.450138",
     "status": "completed"
    },
    "tags": []
   },
   "source": [
    "### Set up your API key\n",
    "\n",
    "To run the following cell, your API key must be stored it in a [Kaggle secret](https://www.kaggle.com/discussions/product-feedback/114053) named `GOOGLE_API_KEY`.\n",
    "\n",
    "If you don't already have an API key, you can grab one from [AI Studio](https://aistudio.google.com/app/apikey). You can find [detailed instructions in the docs](https://ai.google.dev/gemini-api/docs/api-key).\n",
    "\n",
    "To make the key available through Kaggle secrets, choose `Secrets` from the `Add-ons` menu and follow the instructions to add your key or enable it for this notebook."
   ]
  },
  {
   "cell_type": "code",
   "execution_count": 3,
   "id": "37e6b010",
   "metadata": {
    "execution": {
     "iopub.execute_input": "2025-04-07T21:31:50.459897Z",
     "iopub.status.busy": "2025-04-07T21:31:50.459318Z",
     "iopub.status.idle": "2025-04-07T21:31:50.972383Z",
     "shell.execute_reply": "2025-04-07T21:31:50.971320Z"
    },
    "papermill": {
     "duration": 0.518808,
     "end_time": "2025-04-07T21:31:50.974441",
     "exception": false,
     "start_time": "2025-04-07T21:31:50.455633",
     "status": "completed"
    },
    "tags": []
   },
   "outputs": [],
   "source": [
    "from kaggle_secrets import UserSecretsClient\n",
    "\n",
    "GOOGLE_API_KEY = UserSecretsClient().get_secret(\"GOOGLE_API_KEY\")\n",
    "client = genai.Client(api_key=GOOGLE_API_KEY)"
   ]
  },
  {
   "cell_type": "markdown",
   "id": "07ed3874",
   "metadata": {
    "papermill": {
     "duration": 0.002744,
     "end_time": "2025-04-07T21:31:50.980606",
     "exception": false,
     "start_time": "2025-04-07T21:31:50.977862",
     "status": "completed"
    },
    "tags": []
   },
   "source": [
    "If you received an error response along the lines of `No user secrets exist for kernel id ...`, then you need to add your API key via `Add-ons`, `Secrets` **and** enable it.\n",
    "\n",
    "![Screenshot of the checkbox to enable GOOGLE_API_KEY secret](https://storage.googleapis.com/kaggle-media/Images/5gdai_sc_3.png)"
   ]
  },
  {
   "cell_type": "markdown",
   "id": "fa1c9830",
   "metadata": {
    "papermill": {
     "duration": 0.002928,
     "end_time": "2025-04-07T21:31:50.986916",
     "exception": false,
     "start_time": "2025-04-07T21:31:50.983988",
     "status": "completed"
    },
    "tags": []
   },
   "source": [
    "### Automated retry\n",
    "\n",
    "Set up a retry helper. This allows you to \"Run all\" without worrying about per-minute quota."
   ]
  },
  {
   "cell_type": "code",
   "execution_count": 4,
   "id": "e8c036c7",
   "metadata": {
    "execution": {
     "iopub.execute_input": "2025-04-07T21:31:50.994230Z",
     "iopub.status.busy": "2025-04-07T21:31:50.993873Z",
     "iopub.status.idle": "2025-04-07T21:31:51.343377Z",
     "shell.execute_reply": "2025-04-07T21:31:51.342300Z"
    },
    "papermill": {
     "duration": 0.355992,
     "end_time": "2025-04-07T21:31:51.345778",
     "exception": false,
     "start_time": "2025-04-07T21:31:50.989786",
     "status": "completed"
    },
    "tags": []
   },
   "outputs": [],
   "source": [
    "from google.api_core import retry\n",
    "\n",
    "\n",
    "is_retriable = lambda e: (isinstance(e, genai.errors.APIError) and e.code in {429, 503})\n",
    "\n",
    "genai.models.Models.generate_content = retry.Retry(\n",
    "    predicate=is_retriable)(genai.models.Models.generate_content)"
   ]
  }
 ],
 "metadata": {
  "kaggle": {
   "accelerator": "none",
   "dataSources": [],
   "dockerImageVersionId": 30918,
   "isGpuEnabled": false,
   "isInternetEnabled": true,
   "language": "python",
   "sourceType": "notebook"
  },
  "kernelspec": {
   "display_name": "Python 3",
   "language": "python",
   "name": "python3"
  },
  "language_info": {
   "codemirror_mode": {
    "name": "ipython",
    "version": 3
   },
   "file_extension": ".py",
   "mimetype": "text/x-python",
   "name": "python",
   "nbconvert_exporter": "python",
   "pygments_lexer": "ipython3",
   "version": "3.10.12"
  },
  "papermill": {
   "default_parameters": {},
   "duration": 15.182208,
   "end_time": "2025-04-07T21:31:52.070634",
   "environment_variables": {},
   "exception": null,
   "input_path": "__notebook__.ipynb",
   "output_path": "__notebook__.ipynb",
   "parameters": {},
   "start_time": "2025-04-07T21:31:36.888426",
   "version": "2.6.0"
  }
 },
 "nbformat": 4,
 "nbformat_minor": 5
}
